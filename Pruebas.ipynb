{
 "cells": [
  {
   "cell_type": "code",
   "execution_count": 2,
   "metadata": {},
   "outputs": [],
   "source": [
    "import requests\n",
    "import pandas as pd\n",
    "import numpy as np\n",
    "import datetime as dt\n",
    "import io"
   ]
  },
  {
   "cell_type": "markdown",
   "metadata": {},
   "source": [
    "# Nivel Pais"
   ]
  },
  {
   "cell_type": "code",
   "execution_count": 246,
   "metadata": {},
   "outputs": [],
   "source": [
    "global_biweekly_cases = 'https://raw.githubusercontent.com/owid/covid-19-data/master/public/data/jhu/biweekly_cases_per_million.csv'\n",
    "r = requests.get(global_biweekly_cases)\n",
    "rawData = pd.read_csv(io.StringIO(r.content.decode('utf-8')))\n",
    "raw_long= pd.melt(rawData, id_vars=['date'], value_vars=rawData.columns[1:])\n",
    "raw_long.rename(columns={'variable':'location', 'value':'biweekly_million'}, inplace=True)\n",
    "raw_long['nicv'] = raw_long['biweekly_million']*1000/1000000\n",
    "global_d = raw_long[['date', 'location', 'nicv']]"
   ]
  },
  {
   "cell_type": "code",
   "execution_count": 336,
   "metadata": {},
   "outputs": [],
   "source": [
    "global_d['country']=global_d['location']\n",
    "global_d.date=pd.to_datetime(global_d['date'], format = '%Y-%m-%d')"
   ]
  },
  {
   "cell_type": "code",
   "execution_count": 337,
   "metadata": {},
   "outputs": [
    {
     "data": {
      "text/html": [
       "<div>\n",
       "<style scoped>\n",
       "    .dataframe tbody tr th:only-of-type {\n",
       "        vertical-align: middle;\n",
       "    }\n",
       "\n",
       "    .dataframe tbody tr th {\n",
       "        vertical-align: top;\n",
       "    }\n",
       "\n",
       "    .dataframe thead th {\n",
       "        text-align: right;\n",
       "    }\n",
       "</style>\n",
       "<table border=\"1\" class=\"dataframe\">\n",
       "  <thead>\n",
       "    <tr style=\"text-align: right;\">\n",
       "      <th></th>\n",
       "      <th>date</th>\n",
       "      <th>location</th>\n",
       "      <th>nicv</th>\n",
       "      <th>country</th>\n",
       "    </tr>\n",
       "  </thead>\n",
       "  <tbody>\n",
       "    <tr>\n",
       "      <th>0</th>\n",
       "      <td>2020-01-22</td>\n",
       "      <td>World</td>\n",
       "      <td>NaN</td>\n",
       "      <td>World</td>\n",
       "    </tr>\n",
       "    <tr>\n",
       "      <th>1</th>\n",
       "      <td>2020-01-23</td>\n",
       "      <td>World</td>\n",
       "      <td>NaN</td>\n",
       "      <td>World</td>\n",
       "    </tr>\n",
       "    <tr>\n",
       "      <th>2</th>\n",
       "      <td>2020-01-24</td>\n",
       "      <td>World</td>\n",
       "      <td>NaN</td>\n",
       "      <td>World</td>\n",
       "    </tr>\n",
       "    <tr>\n",
       "      <th>3</th>\n",
       "      <td>2020-01-25</td>\n",
       "      <td>World</td>\n",
       "      <td>NaN</td>\n",
       "      <td>World</td>\n",
       "    </tr>\n",
       "    <tr>\n",
       "      <th>4</th>\n",
       "      <td>2020-01-26</td>\n",
       "      <td>World</td>\n",
       "      <td>NaN</td>\n",
       "      <td>World</td>\n",
       "    </tr>\n",
       "    <tr>\n",
       "      <th>...</th>\n",
       "      <td>...</td>\n",
       "      <td>...</td>\n",
       "      <td>...</td>\n",
       "      <td>...</td>\n",
       "    </tr>\n",
       "    <tr>\n",
       "      <th>86759</th>\n",
       "      <td>2021-03-28</td>\n",
       "      <td>Zimbabwe</td>\n",
       "      <td>0.022741</td>\n",
       "      <td>Zimbabwe</td>\n",
       "    </tr>\n",
       "    <tr>\n",
       "      <th>86760</th>\n",
       "      <td>2021-03-29</td>\n",
       "      <td>Zimbabwe</td>\n",
       "      <td>0.022539</td>\n",
       "      <td>Zimbabwe</td>\n",
       "    </tr>\n",
       "    <tr>\n",
       "      <th>86761</th>\n",
       "      <td>2021-03-30</td>\n",
       "      <td>Zimbabwe</td>\n",
       "      <td>0.020454</td>\n",
       "      <td>Zimbabwe</td>\n",
       "    </tr>\n",
       "    <tr>\n",
       "      <th>86762</th>\n",
       "      <td>2021-03-31</td>\n",
       "      <td>Zimbabwe</td>\n",
       "      <td>0.022203</td>\n",
       "      <td>Zimbabwe</td>\n",
       "    </tr>\n",
       "    <tr>\n",
       "      <th>86763</th>\n",
       "      <td>2021-04-01</td>\n",
       "      <td>Zimbabwe</td>\n",
       "      <td>0.019175</td>\n",
       "      <td>Zimbabwe</td>\n",
       "    </tr>\n",
       "  </tbody>\n",
       "</table>\n",
       "<p>86764 rows × 4 columns</p>\n",
       "</div>"
      ],
      "text/plain": [
       "            date  location      nicv   country\n",
       "0     2020-01-22     World       NaN     World\n",
       "1     2020-01-23     World       NaN     World\n",
       "2     2020-01-24     World       NaN     World\n",
       "3     2020-01-25     World       NaN     World\n",
       "4     2020-01-26     World       NaN     World\n",
       "...          ...       ...       ...       ...\n",
       "86759 2021-03-28  Zimbabwe  0.022741  Zimbabwe\n",
       "86760 2021-03-29  Zimbabwe  0.022539  Zimbabwe\n",
       "86761 2021-03-30  Zimbabwe  0.020454  Zimbabwe\n",
       "86762 2021-03-31  Zimbabwe  0.022203  Zimbabwe\n",
       "86763 2021-04-01  Zimbabwe  0.019175  Zimbabwe\n",
       "\n",
       "[86764 rows x 4 columns]"
      ]
     },
     "execution_count": 337,
     "metadata": {},
     "output_type": "execute_result"
    }
   ],
   "source": [
    "global_d"
   ]
  },
  {
   "cell_type": "code",
   "execution_count": 248,
   "metadata": {},
   "outputs": [],
   "source": [
    "def get_nicv_country(country, last_day = 1):\n",
    "    '''\n",
    "    '''\n",
    "    val = raw_long[(raw_long['location'] == country) & \n",
    "                   (raw_long['date']== str(dt.datetime.today() - \n",
    "                                           dt.timedelta(days=last_day)).split()[0])].nicv.values\n",
    "    \n",
    "    if len(val) == 0:\n",
    "        return None\n",
    "    \n",
    "    return val[0]"
   ]
  },
  {
   "cell_type": "code",
   "execution_count": 249,
   "metadata": {},
   "outputs": [
    {
     "data": {
      "text/plain": [
       "4.982249"
      ]
     },
     "execution_count": 249,
     "metadata": {},
     "output_type": "execute_result"
    }
   ],
   "source": [
    "get_nicv_country('Brazil')"
   ]
  },
  {
   "cell_type": "markdown",
   "metadata": {},
   "source": [
    "# Nivel County/Municipio"
   ]
  },
  {
   "cell_type": "markdown",
   "metadata": {},
   "source": [
    "## United States"
   ]
  },
  {
   "cell_type": "code",
   "execution_count": 250,
   "metadata": {},
   "outputs": [],
   "source": [
    "start = dt.datetime.strptime('04-12-2020', '%m-%d-%Y') \n",
    "end = dt.datetime.today()\n",
    "step = dt.timedelta(days=1)\n",
    "dates = []\n",
    "while start < end:\n",
    "    dates.append(start.strftime('%m-%d-%Y'))\n",
    "    start += step\n",
    "    str(start)"
   ]
  },
  {
   "cell_type": "code",
   "execution_count": 251,
   "metadata": {},
   "outputs": [],
   "source": [
    "url_county_us = \"https://raw.githubusercontent.com/CSSEGISandData/COVID-19/master/csse_covid_19_data/csse_covid_19_daily_reports/{}.csv\""
   ]
  },
  {
   "cell_type": "code",
   "execution_count": 252,
   "metadata": {},
   "outputs": [],
   "source": [
    "bigraw = None \n",
    "for i, date in enumerate(dates[:-1]):\n",
    "    r = requests.get(url_county_us.format(date))\n",
    "    rawData = pd.read_csv(io.StringIO(r.content.decode('utf-8')))\n",
    "    rawData = rawData[rawData.Country_Region=='US'][['FIPS', 'Admin2', \n",
    "                                                'Province_State', 'Country_Region', 'Combined_Key',\n",
    "                                                'Lat', 'Long_', 'Confirmed']]\n",
    "    rawData['date'] = date\n",
    "    if i == 0:\n",
    "        bigraw = rawData\n",
    "    else:\n",
    "        bigraw = bigraw.append(rawData)"
   ]
  },
  {
   "cell_type": "code",
   "execution_count": 253,
   "metadata": {},
   "outputs": [],
   "source": [
    "bigraw= bigraw[bigraw.Admin2 != 'Unassigned']"
   ]
  },
  {
   "cell_type": "code",
   "execution_count": 254,
   "metadata": {},
   "outputs": [],
   "source": [
    "r = requests.get(\"https://api.census.gov/data/2019/pep/charagegroups?get=NAME,POP&for=county:*\")\n",
    "populations = pd.DataFrame(r.json()[1:], columns=r.json()[0])\n",
    "populations['FIPS'] = (populations['state']+ populations['county']).astype(float).astype(str)\n",
    "populations['POP'] = populations['POP'].astype(float)"
   ]
  },
  {
   "cell_type": "code",
   "execution_count": 255,
   "metadata": {},
   "outputs": [],
   "source": [
    "bigraw['FIPS'] = bigraw.groupby(['Combined_Key'])['FIPS'].transform(lambda x: \n",
    "                                                                    x.fillna(x.astype(float).min())).astype(str)"
   ]
  },
  {
   "cell_type": "code",
   "execution_count": 291,
   "metadata": {},
   "outputs": [],
   "source": [
    "big = bigraw.merge(populations)\n",
    "big['date'] = pd.to_datetime(big['date'])\n",
    "big = big.sort_values(by=['Combined_Key', 'date']).reset_index(drop=True)"
   ]
  },
  {
   "cell_type": "code",
   "execution_count": 292,
   "metadata": {},
   "outputs": [],
   "source": [
    "vals = big.groupby(['Combined_Key'])\\\n",
    "                    .apply(lambda x:\n",
    "                           x.set_index('date')).rolling(15)['Confirmed'].apply(lambda x:x[-1] - x[0],\n",
    "                                                                               raw=True).reset_index()"
   ]
  },
  {
   "cell_type": "code",
   "execution_count": 293,
   "metadata": {},
   "outputs": [],
   "source": [
    "vals.index = big.index\n",
    "big['last14'] = vals['Confirmed']\n",
    "big['nicv']= big['last14']/big['POP'].astype(float)*1000"
   ]
  },
  {
   "cell_type": "code",
   "execution_count": 294,
   "metadata": {},
   "outputs": [
    {
     "data": {
      "text/html": [
       "<div>\n",
       "<style scoped>\n",
       "    .dataframe tbody tr th:only-of-type {\n",
       "        vertical-align: middle;\n",
       "    }\n",
       "\n",
       "    .dataframe tbody tr th {\n",
       "        vertical-align: top;\n",
       "    }\n",
       "\n",
       "    .dataframe thead th {\n",
       "        text-align: right;\n",
       "    }\n",
       "</style>\n",
       "<table border=\"1\" class=\"dataframe\">\n",
       "  <thead>\n",
       "    <tr style=\"text-align: right;\">\n",
       "      <th></th>\n",
       "      <th>Combined_Key</th>\n",
       "      <th>nicv</th>\n",
       "    </tr>\n",
       "  </thead>\n",
       "  <tbody>\n",
       "    <tr>\n",
       "      <th>224373</th>\n",
       "      <td>Cook, Georgia, US</td>\n",
       "      <td>1.158078</td>\n",
       "    </tr>\n",
       "    <tr>\n",
       "      <th>224728</th>\n",
       "      <td>Cook, Illinois, US</td>\n",
       "      <td>2.145534</td>\n",
       "    </tr>\n",
       "    <tr>\n",
       "      <th>225021</th>\n",
       "      <td>Cook, Minnesota, US</td>\n",
       "      <td>2.562694</td>\n",
       "    </tr>\n",
       "  </tbody>\n",
       "</table>\n",
       "</div>"
      ],
      "text/plain": [
       "               Combined_Key      nicv\n",
       "224373    Cook, Georgia, US  1.158078\n",
       "224728   Cook, Illinois, US  2.145534\n",
       "225021  Cook, Minnesota, US  2.562694"
      ]
     },
     "execution_count": 294,
     "metadata": {},
     "output_type": "execute_result"
    }
   ],
   "source": [
    "big[(big.date =='2021-03-26') & (big.Admin2=='Cook')][['Combined_Key', 'nicv']]"
   ]
  },
  {
   "cell_type": "code",
   "execution_count": 296,
   "metadata": {},
   "outputs": [],
   "source": [
    "big.rename(columns={'Combined_Key':'location', 'Province_State':'state_name'}, inplace=True)"
   ]
  },
  {
   "cell_type": "code",
   "execution_count": 297,
   "metadata": {},
   "outputs": [
    {
     "name": "stderr",
     "output_type": "stream",
     "text": [
      "<ipython-input-297-fb6816ea7fac>:2: SettingWithCopyWarning: \n",
      "A value is trying to be set on a copy of a slice from a DataFrame.\n",
      "Try using .loc[row_indexer,col_indexer] = value instead\n",
      "\n",
      "See the caveats in the documentation: https://pandas.pydata.org/pandas-docs/stable/user_guide/indexing.html#returning-a-view-versus-a-copy\n",
      "  us['country']='United States'\n"
     ]
    }
   ],
   "source": [
    "us = big[['date', 'location', 'nicv', 'state_name']]\n",
    "us['country']='United States'"
   ]
  },
  {
   "cell_type": "code",
   "execution_count": 298,
   "metadata": {},
   "outputs": [
    {
     "data": {
      "text/html": [
       "<div>\n",
       "<style scoped>\n",
       "    .dataframe tbody tr th:only-of-type {\n",
       "        vertical-align: middle;\n",
       "    }\n",
       "\n",
       "    .dataframe tbody tr th {\n",
       "        vertical-align: top;\n",
       "    }\n",
       "\n",
       "    .dataframe thead th {\n",
       "        text-align: right;\n",
       "    }\n",
       "</style>\n",
       "<table border=\"1\" class=\"dataframe\">\n",
       "  <thead>\n",
       "    <tr style=\"text-align: right;\">\n",
       "      <th></th>\n",
       "      <th>date</th>\n",
       "      <th>location</th>\n",
       "      <th>nicv</th>\n",
       "      <th>state_name</th>\n",
       "      <th>country</th>\n",
       "    </tr>\n",
       "  </thead>\n",
       "  <tbody>\n",
       "    <tr>\n",
       "      <th>0</th>\n",
       "      <td>2020-04-12</td>\n",
       "      <td>Abbeville, South Carolina, US</td>\n",
       "      <td>NaN</td>\n",
       "      <td>South Carolina</td>\n",
       "      <td>United States</td>\n",
       "    </tr>\n",
       "    <tr>\n",
       "      <th>1</th>\n",
       "      <td>2020-04-13</td>\n",
       "      <td>Abbeville, South Carolina, US</td>\n",
       "      <td>NaN</td>\n",
       "      <td>South Carolina</td>\n",
       "      <td>United States</td>\n",
       "    </tr>\n",
       "    <tr>\n",
       "      <th>2</th>\n",
       "      <td>2020-04-14</td>\n",
       "      <td>Abbeville, South Carolina, US</td>\n",
       "      <td>NaN</td>\n",
       "      <td>South Carolina</td>\n",
       "      <td>United States</td>\n",
       "    </tr>\n",
       "    <tr>\n",
       "      <th>3</th>\n",
       "      <td>2020-04-15</td>\n",
       "      <td>Abbeville, South Carolina, US</td>\n",
       "      <td>NaN</td>\n",
       "      <td>South Carolina</td>\n",
       "      <td>United States</td>\n",
       "    </tr>\n",
       "    <tr>\n",
       "      <th>4</th>\n",
       "      <td>2020-04-16</td>\n",
       "      <td>Abbeville, South Carolina, US</td>\n",
       "      <td>NaN</td>\n",
       "      <td>South Carolina</td>\n",
       "      <td>United States</td>\n",
       "    </tr>\n",
       "    <tr>\n",
       "      <th>...</th>\n",
       "      <td>...</td>\n",
       "      <td>...</td>\n",
       "      <td>...</td>\n",
       "      <td>...</td>\n",
       "      <td>...</td>\n",
       "    </tr>\n",
       "    <tr>\n",
       "      <th>1108022</th>\n",
       "      <td>2021-03-28</td>\n",
       "      <td>Ziebach, South Dakota, US</td>\n",
       "      <td>0.362845</td>\n",
       "      <td>South Dakota</td>\n",
       "      <td>United States</td>\n",
       "    </tr>\n",
       "    <tr>\n",
       "      <th>1108023</th>\n",
       "      <td>2021-03-29</td>\n",
       "      <td>Ziebach, South Dakota, US</td>\n",
       "      <td>0.362845</td>\n",
       "      <td>South Dakota</td>\n",
       "      <td>United States</td>\n",
       "    </tr>\n",
       "    <tr>\n",
       "      <th>1108024</th>\n",
       "      <td>2021-03-30</td>\n",
       "      <td>Ziebach, South Dakota, US</td>\n",
       "      <td>0.362845</td>\n",
       "      <td>South Dakota</td>\n",
       "      <td>United States</td>\n",
       "    </tr>\n",
       "    <tr>\n",
       "      <th>1108025</th>\n",
       "      <td>2021-03-31</td>\n",
       "      <td>Ziebach, South Dakota, US</td>\n",
       "      <td>1.088534</td>\n",
       "      <td>South Dakota</td>\n",
       "      <td>United States</td>\n",
       "    </tr>\n",
       "    <tr>\n",
       "      <th>1108026</th>\n",
       "      <td>2021-04-01</td>\n",
       "      <td>Ziebach, South Dakota, US</td>\n",
       "      <td>1.088534</td>\n",
       "      <td>South Dakota</td>\n",
       "      <td>United States</td>\n",
       "    </tr>\n",
       "  </tbody>\n",
       "</table>\n",
       "<p>1108027 rows × 5 columns</p>\n",
       "</div>"
      ],
      "text/plain": [
       "              date                       location      nicv      state_name  \\\n",
       "0       2020-04-12  Abbeville, South Carolina, US       NaN  South Carolina   \n",
       "1       2020-04-13  Abbeville, South Carolina, US       NaN  South Carolina   \n",
       "2       2020-04-14  Abbeville, South Carolina, US       NaN  South Carolina   \n",
       "3       2020-04-15  Abbeville, South Carolina, US       NaN  South Carolina   \n",
       "4       2020-04-16  Abbeville, South Carolina, US       NaN  South Carolina   \n",
       "...            ...                            ...       ...             ...   \n",
       "1108022 2021-03-28      Ziebach, South Dakota, US  0.362845    South Dakota   \n",
       "1108023 2021-03-29      Ziebach, South Dakota, US  0.362845    South Dakota   \n",
       "1108024 2021-03-30      Ziebach, South Dakota, US  0.362845    South Dakota   \n",
       "1108025 2021-03-31      Ziebach, South Dakota, US  1.088534    South Dakota   \n",
       "1108026 2021-04-01      Ziebach, South Dakota, US  1.088534    South Dakota   \n",
       "\n",
       "               country  \n",
       "0        United States  \n",
       "1        United States  \n",
       "2        United States  \n",
       "3        United States  \n",
       "4        United States  \n",
       "...                ...  \n",
       "1108022  United States  \n",
       "1108023  United States  \n",
       "1108024  United States  \n",
       "1108025  United States  \n",
       "1108026  United States  \n",
       "\n",
       "[1108027 rows x 5 columns]"
      ]
     },
     "execution_count": 298,
     "metadata": {},
     "output_type": "execute_result"
    }
   ],
   "source": [
    "us"
   ]
  },
  {
   "cell_type": "markdown",
   "metadata": {},
   "source": [
    "## Mexico Municipios"
   ]
  },
  {
   "cell_type": "code",
   "execution_count": 261,
   "metadata": {},
   "outputs": [],
   "source": [
    "mex_mun = 'https://datos.covid-19.conacyt.mx/Downloads/Files/Casos_Diarios_Municipio_Confirmados_20210401.csv'"
   ]
  },
  {
   "cell_type": "code",
   "execution_count": 262,
   "metadata": {},
   "outputs": [],
   "source": [
    "r = requests.get(mex_mun)\n",
    "mex = pd.read_csv(io.StringIO(r.content.decode('utf-8')))"
   ]
  },
  {
   "cell_type": "code",
   "execution_count": 263,
   "metadata": {},
   "outputs": [],
   "source": [
    "mex = pd.melt(mex, id_vars=mex.columns[:3], value_vars=mex.columns[3:])\n",
    "mex.rename(columns={'variable':'date', 'value':'daily'}, inplace=True)"
   ]
  },
  {
   "cell_type": "code",
   "execution_count": 264,
   "metadata": {},
   "outputs": [],
   "source": [
    "claves_entidades = {1: 'Aguascalientes', 2:'Baja California', 3:'Baja California Sur',\n",
    "                   4:'Campeche', 5:'Coahuila', 6:'Colima', 7:'Chiapas', 8:'Chihuahua',\n",
    "                   9: 'Ciudad de México', 10:'Durango', 11:'Guanajuato', 12:'Guerrero',\n",
    "                   13:\"Hidalgo\", 14:'Jalisco', 15: 'Estado de México', 16:'Michoacán',\n",
    "                   17: 'Morelos', 18:'Nayarit', 19:'Nuevo León', 20:'Oaxaca',\n",
    "                   21:'Puebla', 22:'Querétaro', 23:'Quintana Roo', 24:'San Luis Potosí',\n",
    "                   25:'Sinaloa', 26:'Sonora', 27:'Tabasco', 28:'Tamaulipas',\n",
    "                   29:'Tlaxcala', 30:'Veracruz', 31:'Yucatán', 32:'Zacatecas'}"
   ]
  },
  {
   "cell_type": "code",
   "execution_count": 265,
   "metadata": {},
   "outputs": [],
   "source": [
    "mex['state'] = mex.apply(lambda x: claves_entidades[x['cve_ent']//1000], axis=1)"
   ]
  },
  {
   "cell_type": "code",
   "execution_count": 340,
   "metadata": {},
   "outputs": [],
   "source": [
    "mex['location'] = mex['nombre'] +\", \" + mex['state']+', Mexico'"
   ]
  },
  {
   "cell_type": "code",
   "execution_count": 267,
   "metadata": {},
   "outputs": [
    {
     "data": {
      "text/html": [
       "<div>\n",
       "<style scoped>\n",
       "    .dataframe tbody tr th:only-of-type {\n",
       "        vertical-align: middle;\n",
       "    }\n",
       "\n",
       "    .dataframe tbody tr th {\n",
       "        vertical-align: top;\n",
       "    }\n",
       "\n",
       "    .dataframe thead th {\n",
       "        text-align: right;\n",
       "    }\n",
       "</style>\n",
       "<table border=\"1\" class=\"dataframe\">\n",
       "  <thead>\n",
       "    <tr style=\"text-align: right;\">\n",
       "      <th></th>\n",
       "      <th>cve_ent</th>\n",
       "      <th>poblacion</th>\n",
       "      <th>nombre</th>\n",
       "      <th>date</th>\n",
       "      <th>daily</th>\n",
       "      <th>state</th>\n",
       "      <th>location</th>\n",
       "    </tr>\n",
       "  </thead>\n",
       "  <tbody>\n",
       "    <tr>\n",
       "      <th>1095295</th>\n",
       "      <td>21114</td>\n",
       "      <td>1698509</td>\n",
       "      <td>Puebla</td>\n",
       "      <td>24-03-2021</td>\n",
       "      <td>101</td>\n",
       "      <td>Puebla</td>\n",
       "      <td>Puebla, Puebla</td>\n",
       "    </tr>\n",
       "  </tbody>\n",
       "</table>\n",
       "</div>"
      ],
      "text/plain": [
       "         cve_ent  poblacion  nombre        date  daily   state        location\n",
       "1095295    21114    1698509  Puebla  24-03-2021    101  Puebla  Puebla, Puebla"
      ]
     },
     "execution_count": 267,
     "metadata": {},
     "output_type": "execute_result"
    }
   ],
   "source": [
    "mex[(mex.nombre == 'Puebla') & (mex.date == '24-03-2021')]"
   ]
  },
  {
   "cell_type": "code",
   "execution_count": 268,
   "metadata": {},
   "outputs": [],
   "source": [
    "mex['date'] = pd.to_datetime(mex['date'], format = '%d-%m-%Y')"
   ]
  },
  {
   "cell_type": "code",
   "execution_count": 269,
   "metadata": {},
   "outputs": [],
   "source": [
    "mex = mex.sort_values(by=['cve_ent', 'date']).reset_index(drop=True)"
   ]
  },
  {
   "cell_type": "code",
   "execution_count": 270,
   "metadata": {},
   "outputs": [],
   "source": [
    "mex['confirmed'] = mex.groupby(['cve_ent']).daily.cumsum()"
   ]
  },
  {
   "cell_type": "code",
   "execution_count": 349,
   "metadata": {},
   "outputs": [],
   "source": [
    "rolling14 = mex.groupby(['cve_ent'])\\\n",
    "                    .apply(lambda x:\n",
    "                           x.set_index('date')).rolling(15)['confirmed'].apply(lambda x:x[-1]- x[0],\n",
    "                                                                               raw=True).reset_index()"
   ]
  },
  {
   "cell_type": "code",
   "execution_count": 350,
   "metadata": {},
   "outputs": [],
   "source": [
    "rolling14.index = mex.index\n",
    "mex['last14'] = rolling14['confirmed']\n",
    "mex['nicv']= mex['last14']*1000/(mex['poblacion'].astype(float))"
   ]
  },
  {
   "cell_type": "code",
   "execution_count": 355,
   "metadata": {},
   "outputs": [
    {
     "data": {
      "text/html": [
       "<div>\n",
       "<style scoped>\n",
       "    .dataframe tbody tr th:only-of-type {\n",
       "        vertical-align: middle;\n",
       "    }\n",
       "\n",
       "    .dataframe tbody tr th {\n",
       "        vertical-align: top;\n",
       "    }\n",
       "\n",
       "    .dataframe thead th {\n",
       "        text-align: right;\n",
       "    }\n",
       "</style>\n",
       "<table border=\"1\" class=\"dataframe\">\n",
       "  <thead>\n",
       "    <tr style=\"text-align: right;\">\n",
       "      <th></th>\n",
       "      <th>cve_ent</th>\n",
       "      <th>poblacion</th>\n",
       "      <th>nombre</th>\n",
       "      <th>date</th>\n",
       "      <th>daily</th>\n",
       "      <th>state</th>\n",
       "      <th>location</th>\n",
       "      <th>confirmed</th>\n",
       "      <th>last14</th>\n",
       "      <th>nicv</th>\n",
       "    </tr>\n",
       "  </thead>\n",
       "  <tbody>\n",
       "    <tr>\n",
       "      <th>761934</th>\n",
       "      <td>21114</td>\n",
       "      <td>1698509</td>\n",
       "      <td>Puebla</td>\n",
       "      <td>2021-03-20</td>\n",
       "      <td>81</td>\n",
       "      <td>Puebla</td>\n",
       "      <td>Puebla, Puebla, Mexico</td>\n",
       "      <td>49143</td>\n",
       "      <td>1713.0</td>\n",
       "      <td>1.008532</td>\n",
       "    </tr>\n",
       "  </tbody>\n",
       "</table>\n",
       "</div>"
      ],
      "text/plain": [
       "        cve_ent  poblacion  nombre       date  daily   state  \\\n",
       "761934    21114    1698509  Puebla 2021-03-20     81  Puebla   \n",
       "\n",
       "                      location  confirmed  last14      nicv  \n",
       "761934  Puebla, Puebla, Mexico      49143  1713.0  1.008532  "
      ]
     },
     "execution_count": 355,
     "metadata": {},
     "output_type": "execute_result"
    }
   ],
   "source": [
    "mex[(mex.location == 'Puebla, Puebla, Mexico') & (mex.date == '2021-03-20')]"
   ]
  },
  {
   "cell_type": "code",
   "execution_count": 361,
   "metadata": {},
   "outputs": [
    {
     "data": {
      "text/html": [
       "<div>\n",
       "<style scoped>\n",
       "    .dataframe tbody tr th:only-of-type {\n",
       "        vertical-align: middle;\n",
       "    }\n",
       "\n",
       "    .dataframe tbody tr th {\n",
       "        vertical-align: top;\n",
       "    }\n",
       "\n",
       "    .dataframe thead th {\n",
       "        text-align: right;\n",
       "    }\n",
       "</style>\n",
       "<table border=\"1\" class=\"dataframe\">\n",
       "  <thead>\n",
       "    <tr style=\"text-align: right;\">\n",
       "      <th></th>\n",
       "      <th>cve_ent</th>\n",
       "      <th>poblacion</th>\n",
       "      <th>nombre</th>\n",
       "      <th>date</th>\n",
       "      <th>daily</th>\n",
       "      <th>state</th>\n",
       "      <th>location</th>\n",
       "      <th>confirmed</th>\n",
       "      <th>last14</th>\n",
       "      <th>nicv</th>\n",
       "    </tr>\n",
       "  </thead>\n",
       "  <tbody>\n",
       "    <tr>\n",
       "      <th>761874</th>\n",
       "      <td>21114</td>\n",
       "      <td>1698509</td>\n",
       "      <td>Puebla</td>\n",
       "      <td>2021-01-19</td>\n",
       "      <td>412</td>\n",
       "      <td>Puebla</td>\n",
       "      <td>Puebla, Puebla, Mexico</td>\n",
       "      <td>38233</td>\n",
       "      <td>4932.0</td>\n",
       "      <td>2.903723</td>\n",
       "    </tr>\n",
       "  </tbody>\n",
       "</table>\n",
       "</div>"
      ],
      "text/plain": [
       "        cve_ent  poblacion  nombre       date  daily   state  \\\n",
       "761874    21114    1698509  Puebla 2021-01-19    412  Puebla   \n",
       "\n",
       "                      location  confirmed  last14      nicv  \n",
       "761874  Puebla, Puebla, Mexico      38233  4932.0  2.903723  "
      ]
     },
     "execution_count": 361,
     "metadata": {},
     "output_type": "execute_result"
    }
   ],
   "source": [
    "puebla = mex[(mex.location == 'Puebla, Puebla, Mexico')]\n",
    "puebla[puebla.nicv == puebla.nicv.max()]"
   ]
  },
  {
   "cell_type": "code",
   "execution_count": 365,
   "metadata": {},
   "outputs": [
    {
     "data": {
      "text/html": [
       "<div>\n",
       "<style scoped>\n",
       "    .dataframe tbody tr th:only-of-type {\n",
       "        vertical-align: middle;\n",
       "    }\n",
       "\n",
       "    .dataframe tbody tr th {\n",
       "        vertical-align: top;\n",
       "    }\n",
       "\n",
       "    .dataframe thead th {\n",
       "        text-align: right;\n",
       "    }\n",
       "</style>\n",
       "<table border=\"1\" class=\"dataframe\">\n",
       "  <thead>\n",
       "    <tr style=\"text-align: right;\">\n",
       "      <th></th>\n",
       "      <th>cve_ent</th>\n",
       "      <th>poblacion</th>\n",
       "      <th>nombre</th>\n",
       "      <th>date</th>\n",
       "      <th>daily</th>\n",
       "      <th>state</th>\n",
       "      <th>location</th>\n",
       "      <th>confirmed</th>\n",
       "      <th>last14</th>\n",
       "      <th>nicv</th>\n",
       "    </tr>\n",
       "  </thead>\n",
       "  <tbody>\n",
       "    <tr>\n",
       "      <th>764110</th>\n",
       "      <td>21119</td>\n",
       "      <td>154192</td>\n",
       "      <td>San Andres Cholula</td>\n",
       "      <td>2020-12-21</td>\n",
       "      <td>6</td>\n",
       "      <td>Puebla</td>\n",
       "      <td>San Andres Cholula, Puebla, Mexico</td>\n",
       "      <td>1408</td>\n",
       "      <td>121.0</td>\n",
       "      <td>0.784736</td>\n",
       "    </tr>\n",
       "  </tbody>\n",
       "</table>\n",
       "</div>"
      ],
      "text/plain": [
       "        cve_ent  poblacion              nombre       date  daily   state  \\\n",
       "764110    21119     154192  San Andres Cholula 2020-12-21      6  Puebla   \n",
       "\n",
       "                                  location  confirmed  last14      nicv  \n",
       "764110  San Andres Cholula, Puebla, Mexico       1408   121.0  0.784736  "
      ]
     },
     "execution_count": 365,
     "metadata": {},
     "output_type": "execute_result"
    }
   ],
   "source": [
    "mex[(mex.nombre == 'San Andres Cholula') & (mex.date == '2020-12-21')]"
   ]
  },
  {
   "cell_type": "code",
   "execution_count": 341,
   "metadata": {},
   "outputs": [
    {
     "name": "stderr",
     "output_type": "stream",
     "text": [
      "/Library/Frameworks/Python.framework/Versions/3.8/lib/python3.8/site-packages/pandas/core/frame.py:4125: SettingWithCopyWarning: \n",
      "A value is trying to be set on a copy of a slice from a DataFrame\n",
      "\n",
      "See the caveats in the documentation: https://pandas.pydata.org/pandas-docs/stable/user_guide/indexing.html#returning-a-view-versus-a-copy\n",
      "  return super().rename(\n",
      "<ipython-input-341-9920f174c4dc>:3: SettingWithCopyWarning: \n",
      "A value is trying to be set on a copy of a slice from a DataFrame.\n",
      "Try using .loc[row_indexer,col_indexer] = value instead\n",
      "\n",
      "See the caveats in the documentation: https://pandas.pydata.org/pandas-docs/stable/user_guide/indexing.html#returning-a-view-versus-a-copy\n",
      "  mex_d['country']= 'Mexico'\n"
     ]
    }
   ],
   "source": [
    "mex_d = mex[['date', 'location', 'state']]\n",
    "mex_d.rename(columns={'state':'state_name'}, inplace=True)\n",
    "mex_d['country']= 'Mexico'"
   ]
  },
  {
   "cell_type": "code",
   "execution_count": 342,
   "metadata": {},
   "outputs": [
    {
     "data": {
      "text/html": [
       "<div>\n",
       "<style scoped>\n",
       "    .dataframe tbody tr th:only-of-type {\n",
       "        vertical-align: middle;\n",
       "    }\n",
       "\n",
       "    .dataframe tbody tr th {\n",
       "        vertical-align: top;\n",
       "    }\n",
       "\n",
       "    .dataframe thead th {\n",
       "        text-align: right;\n",
       "    }\n",
       "</style>\n",
       "<table border=\"1\" class=\"dataframe\">\n",
       "  <thead>\n",
       "    <tr style=\"text-align: right;\">\n",
       "      <th></th>\n",
       "      <th>date</th>\n",
       "      <th>location</th>\n",
       "      <th>state_name</th>\n",
       "      <th>country</th>\n",
       "    </tr>\n",
       "  </thead>\n",
       "  <tbody>\n",
       "    <tr>\n",
       "      <th>0</th>\n",
       "      <td>2020-01-04</td>\n",
       "      <td>Aguascalientes, Aguascalientes, Mexico</td>\n",
       "      <td>Aguascalientes</td>\n",
       "      <td>Mexico</td>\n",
       "    </tr>\n",
       "    <tr>\n",
       "      <th>1</th>\n",
       "      <td>2020-01-05</td>\n",
       "      <td>Aguascalientes, Aguascalientes, Mexico</td>\n",
       "      <td>Aguascalientes</td>\n",
       "      <td>Mexico</td>\n",
       "    </tr>\n",
       "    <tr>\n",
       "      <th>2</th>\n",
       "      <td>2020-01-06</td>\n",
       "      <td>Aguascalientes, Aguascalientes, Mexico</td>\n",
       "      <td>Aguascalientes</td>\n",
       "      <td>Mexico</td>\n",
       "    </tr>\n",
       "    <tr>\n",
       "      <th>3</th>\n",
       "      <td>2020-01-07</td>\n",
       "      <td>Aguascalientes, Aguascalientes, Mexico</td>\n",
       "      <td>Aguascalientes</td>\n",
       "      <td>Mexico</td>\n",
       "    </tr>\n",
       "    <tr>\n",
       "      <th>4</th>\n",
       "      <td>2020-01-08</td>\n",
       "      <td>Aguascalientes, Aguascalientes, Mexico</td>\n",
       "      <td>Aguascalientes</td>\n",
       "      <td>Mexico</td>\n",
       "    </tr>\n",
       "    <tr>\n",
       "      <th>...</th>\n",
       "      <td>...</td>\n",
       "      <td>...</td>\n",
       "      <td>...</td>\n",
       "      <td>...</td>\n",
       "    </tr>\n",
       "    <tr>\n",
       "      <th>1113016</th>\n",
       "      <td>2021-03-27</td>\n",
       "      <td>Santa Maria de la Paz, Zacatecas, Mexico</td>\n",
       "      <td>Zacatecas</td>\n",
       "      <td>Mexico</td>\n",
       "    </tr>\n",
       "    <tr>\n",
       "      <th>1113017</th>\n",
       "      <td>2021-03-28</td>\n",
       "      <td>Santa Maria de la Paz, Zacatecas, Mexico</td>\n",
       "      <td>Zacatecas</td>\n",
       "      <td>Mexico</td>\n",
       "    </tr>\n",
       "    <tr>\n",
       "      <th>1113018</th>\n",
       "      <td>2021-03-29</td>\n",
       "      <td>Santa Maria de la Paz, Zacatecas, Mexico</td>\n",
       "      <td>Zacatecas</td>\n",
       "      <td>Mexico</td>\n",
       "    </tr>\n",
       "    <tr>\n",
       "      <th>1113019</th>\n",
       "      <td>2021-03-30</td>\n",
       "      <td>Santa Maria de la Paz, Zacatecas, Mexico</td>\n",
       "      <td>Zacatecas</td>\n",
       "      <td>Mexico</td>\n",
       "    </tr>\n",
       "    <tr>\n",
       "      <th>1113020</th>\n",
       "      <td>2021-03-31</td>\n",
       "      <td>Santa Maria de la Paz, Zacatecas, Mexico</td>\n",
       "      <td>Zacatecas</td>\n",
       "      <td>Mexico</td>\n",
       "    </tr>\n",
       "  </tbody>\n",
       "</table>\n",
       "<p>1113021 rows × 4 columns</p>\n",
       "</div>"
      ],
      "text/plain": [
       "              date                                  location      state_name  \\\n",
       "0       2020-01-04    Aguascalientes, Aguascalientes, Mexico  Aguascalientes   \n",
       "1       2020-01-05    Aguascalientes, Aguascalientes, Mexico  Aguascalientes   \n",
       "2       2020-01-06    Aguascalientes, Aguascalientes, Mexico  Aguascalientes   \n",
       "3       2020-01-07    Aguascalientes, Aguascalientes, Mexico  Aguascalientes   \n",
       "4       2020-01-08    Aguascalientes, Aguascalientes, Mexico  Aguascalientes   \n",
       "...            ...                                       ...             ...   \n",
       "1113016 2021-03-27  Santa Maria de la Paz, Zacatecas, Mexico       Zacatecas   \n",
       "1113017 2021-03-28  Santa Maria de la Paz, Zacatecas, Mexico       Zacatecas   \n",
       "1113018 2021-03-29  Santa Maria de la Paz, Zacatecas, Mexico       Zacatecas   \n",
       "1113019 2021-03-30  Santa Maria de la Paz, Zacatecas, Mexico       Zacatecas   \n",
       "1113020 2021-03-31  Santa Maria de la Paz, Zacatecas, Mexico       Zacatecas   \n",
       "\n",
       "        country  \n",
       "0        Mexico  \n",
       "1        Mexico  \n",
       "2        Mexico  \n",
       "3        Mexico  \n",
       "4        Mexico  \n",
       "...         ...  \n",
       "1113016  Mexico  \n",
       "1113017  Mexico  \n",
       "1113018  Mexico  \n",
       "1113019  Mexico  \n",
       "1113020  Mexico  \n",
       "\n",
       "[1113021 rows x 4 columns]"
      ]
     },
     "execution_count": 342,
     "metadata": {},
     "output_type": "execute_result"
    }
   ],
   "source": [
    "mex_d"
   ]
  },
  {
   "cell_type": "markdown",
   "metadata": {},
   "source": [
    "# Merge All"
   ]
  },
  {
   "cell_type": "code",
   "execution_count": 343,
   "metadata": {},
   "outputs": [],
   "source": [
    "all_mun = global_d.append(us).append(mex_d)"
   ]
  },
  {
   "cell_type": "code",
   "execution_count": 344,
   "metadata": {},
   "outputs": [
    {
     "data": {
      "text/html": [
       "<div>\n",
       "<style scoped>\n",
       "    .dataframe tbody tr th:only-of-type {\n",
       "        vertical-align: middle;\n",
       "    }\n",
       "\n",
       "    .dataframe tbody tr th {\n",
       "        vertical-align: top;\n",
       "    }\n",
       "\n",
       "    .dataframe thead th {\n",
       "        text-align: right;\n",
       "    }\n",
       "</style>\n",
       "<table border=\"1\" class=\"dataframe\">\n",
       "  <thead>\n",
       "    <tr style=\"text-align: right;\">\n",
       "      <th></th>\n",
       "      <th>date</th>\n",
       "      <th>location</th>\n",
       "      <th>nicv</th>\n",
       "      <th>country</th>\n",
       "      <th>state_name</th>\n",
       "    </tr>\n",
       "  </thead>\n",
       "  <tbody>\n",
       "    <tr>\n",
       "      <th>0</th>\n",
       "      <td>2020-01-22</td>\n",
       "      <td>World</td>\n",
       "      <td>NaN</td>\n",
       "      <td>World</td>\n",
       "      <td>NaN</td>\n",
       "    </tr>\n",
       "    <tr>\n",
       "      <th>1</th>\n",
       "      <td>2020-01-23</td>\n",
       "      <td>World</td>\n",
       "      <td>NaN</td>\n",
       "      <td>World</td>\n",
       "      <td>NaN</td>\n",
       "    </tr>\n",
       "    <tr>\n",
       "      <th>2</th>\n",
       "      <td>2020-01-24</td>\n",
       "      <td>World</td>\n",
       "      <td>NaN</td>\n",
       "      <td>World</td>\n",
       "      <td>NaN</td>\n",
       "    </tr>\n",
       "    <tr>\n",
       "      <th>3</th>\n",
       "      <td>2020-01-25</td>\n",
       "      <td>World</td>\n",
       "      <td>NaN</td>\n",
       "      <td>World</td>\n",
       "      <td>NaN</td>\n",
       "    </tr>\n",
       "    <tr>\n",
       "      <th>4</th>\n",
       "      <td>2020-01-26</td>\n",
       "      <td>World</td>\n",
       "      <td>NaN</td>\n",
       "      <td>World</td>\n",
       "      <td>NaN</td>\n",
       "    </tr>\n",
       "    <tr>\n",
       "      <th>...</th>\n",
       "      <td>...</td>\n",
       "      <td>...</td>\n",
       "      <td>...</td>\n",
       "      <td>...</td>\n",
       "      <td>...</td>\n",
       "    </tr>\n",
       "    <tr>\n",
       "      <th>1113016</th>\n",
       "      <td>2021-03-27</td>\n",
       "      <td>Santa Maria de la Paz, Zacatecas, Mexico</td>\n",
       "      <td>NaN</td>\n",
       "      <td>Mexico</td>\n",
       "      <td>Zacatecas</td>\n",
       "    </tr>\n",
       "    <tr>\n",
       "      <th>1113017</th>\n",
       "      <td>2021-03-28</td>\n",
       "      <td>Santa Maria de la Paz, Zacatecas, Mexico</td>\n",
       "      <td>NaN</td>\n",
       "      <td>Mexico</td>\n",
       "      <td>Zacatecas</td>\n",
       "    </tr>\n",
       "    <tr>\n",
       "      <th>1113018</th>\n",
       "      <td>2021-03-29</td>\n",
       "      <td>Santa Maria de la Paz, Zacatecas, Mexico</td>\n",
       "      <td>NaN</td>\n",
       "      <td>Mexico</td>\n",
       "      <td>Zacatecas</td>\n",
       "    </tr>\n",
       "    <tr>\n",
       "      <th>1113019</th>\n",
       "      <td>2021-03-30</td>\n",
       "      <td>Santa Maria de la Paz, Zacatecas, Mexico</td>\n",
       "      <td>NaN</td>\n",
       "      <td>Mexico</td>\n",
       "      <td>Zacatecas</td>\n",
       "    </tr>\n",
       "    <tr>\n",
       "      <th>1113020</th>\n",
       "      <td>2021-03-31</td>\n",
       "      <td>Santa Maria de la Paz, Zacatecas, Mexico</td>\n",
       "      <td>NaN</td>\n",
       "      <td>Mexico</td>\n",
       "      <td>Zacatecas</td>\n",
       "    </tr>\n",
       "  </tbody>\n",
       "</table>\n",
       "<p>2307812 rows × 5 columns</p>\n",
       "</div>"
      ],
      "text/plain": [
       "              date                                  location  nicv country  \\\n",
       "0       2020-01-22                                     World   NaN   World   \n",
       "1       2020-01-23                                     World   NaN   World   \n",
       "2       2020-01-24                                     World   NaN   World   \n",
       "3       2020-01-25                                     World   NaN   World   \n",
       "4       2020-01-26                                     World   NaN   World   \n",
       "...            ...                                       ...   ...     ...   \n",
       "1113016 2021-03-27  Santa Maria de la Paz, Zacatecas, Mexico   NaN  Mexico   \n",
       "1113017 2021-03-28  Santa Maria de la Paz, Zacatecas, Mexico   NaN  Mexico   \n",
       "1113018 2021-03-29  Santa Maria de la Paz, Zacatecas, Mexico   NaN  Mexico   \n",
       "1113019 2021-03-30  Santa Maria de la Paz, Zacatecas, Mexico   NaN  Mexico   \n",
       "1113020 2021-03-31  Santa Maria de la Paz, Zacatecas, Mexico   NaN  Mexico   \n",
       "\n",
       "        state_name  \n",
       "0              NaN  \n",
       "1              NaN  \n",
       "2              NaN  \n",
       "3              NaN  \n",
       "4              NaN  \n",
       "...            ...  \n",
       "1113016  Zacatecas  \n",
       "1113017  Zacatecas  \n",
       "1113018  Zacatecas  \n",
       "1113019  Zacatecas  \n",
       "1113020  Zacatecas  \n",
       "\n",
       "[2307812 rows x 5 columns]"
      ]
     },
     "execution_count": 344,
     "metadata": {},
     "output_type": "execute_result"
    }
   ],
   "source": [
    "all_mun"
   ]
  },
  {
   "cell_type": "code",
   "execution_count": 367,
   "metadata": {},
   "outputs": [],
   "source": [
    "all_mun.to_csv('nicv-01.csv', index=False)"
   ]
  },
  {
   "cell_type": "code",
   "execution_count": null,
   "metadata": {},
   "outputs": [],
   "source": []
  }
 ],
 "metadata": {
  "kernelspec": {
   "display_name": "Python 3",
   "language": "python",
   "name": "python3"
  },
  "language_info": {
   "codemirror_mode": {
    "name": "ipython",
    "version": 3
   },
   "file_extension": ".py",
   "mimetype": "text/x-python",
   "name": "python",
   "nbconvert_exporter": "python",
   "pygments_lexer": "ipython3",
   "version": "3.8.1"
  }
 },
 "nbformat": 4,
 "nbformat_minor": 4
}
